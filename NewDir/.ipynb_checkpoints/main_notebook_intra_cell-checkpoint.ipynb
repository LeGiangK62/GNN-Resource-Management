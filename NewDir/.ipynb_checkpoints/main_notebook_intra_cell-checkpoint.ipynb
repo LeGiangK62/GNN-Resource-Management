{
 "cells": [
  {
   "cell_type": "code",
   "execution_count": 1,
   "metadata": {},
   "outputs": [],
   "source": [
    "from cell_wireless import *\n",
    "from wmmse import wmmse_cell_network"
   ]
  },
  {
   "cell_type": "code",
   "execution_count": 2,
   "metadata": {
    "ExecuteTime": {
     "end_time": "2023-06-01T06:16:45.144901800Z",
     "start_time": "2023-06-01T06:16:44.795824300Z"
    }
   },
   "outputs": [
    {
     "name": "stdout",
     "output_type": "stream",
     "text": [
      "Generating Data for training and testing\n",
      "Generating Data for training and testing\n",
      "Solving the cell network problem with WMMSE\n",
      "Solving the cell network problem with WMMSE\n"
     ]
    }
   ],
   "source": [
    "K = 1  # number of BS(s)\n",
    "N = 10  # number of users\n",
    "R = 0  # radius\n",
    "\n",
    "num_train = 5  # number of training samples\n",
    "num_test = 10  # number of test samples\n",
    "\n",
    "reg = 1e-2\n",
    "pmax = 1\n",
    "var_db = 10\n",
    "var = 1 / 10 ** (var_db / 10)\n",
    "\n",
    "X_train, pos_train, adj_train = generate_channels_cell_wireless(K, N, num_train, var, R)\n",
    "X_test, pos_test, adj_test = generate_channels_cell_wireless(K, N, num_test, var, R)\n",
    "# print(channel_matrices.shape)\n",
    "# print(positions.shape)\n",
    "# print(adj_matrix.shape)\n",
    "#\n",
    "# gcn_model = GCNet()\n",
    "\n",
    "p_wmmse_train = wmmse_cell_network(X_train, np.ones((num_train, K, N)) * pmax, np.ones((num_train, K, N)), np.ones((num_train, K, N)) * pmax, np.ones((num_train, K, N)) * var)\n",
    "\n",
    "p_wmmse_test = wmmse_cell_network(X_test, np.ones((num_test, K, N)) * pmax, np.ones((num_test, K, N)),\n",
    "                             np.ones((num_test, K, N)) * pmax, np.ones((num_test, K, N)) * var)"
   ]
  },
  {
   "cell_type": "code",
   "execution_count": 3,
   "metadata": {},
   "outputs": [],
   "source": [
    "supervised_loss_training = []\n",
    "unsupervised_loss_training = []\n",
    "supervised_loss_testing = []\n",
    "ubsupervised_loss_testing = []"
   ]
  },
  {
   "cell_type": "code",
   "execution_count": null,
   "metadata": {},
   "outputs": [
    {
     "name": "stdout",
     "output_type": "stream",
     "text": [
      "False\n"
     ]
    }
   ],
   "source": [
    "# region Unsupervied Learning\n",
    "train_data = process_data(X_train, pmax, var)\n",
    "test_data = process_data(X_test, pmax, var)\n",
    "device = torch.device('cuda' if torch.cuda.is_available() else 'cpu')\n",
    "print(torch.cuda.is_available())\n",
    "gcn_model = GCNet().to(device)\n",
    "\n",
    "optimizer = torch.optim.Adam(gcn_model.parameters(), lr=0.001)\n",
    "scheduler = torch.optim.lr_scheduler.StepLR(optimizer, step_size=20, gamma=0.9)\n",
    "train_loader = DataLoader(train_data, batch_size=64, shuffle=True, num_workers=1)\n",
    "test_loader = DataLoader(test_data, batch_size=2000, shuffle=False, num_workers=1)\n",
    "\n",
    "for epoch in range(1, 200):\n",
    "    loss1 = model_training(reg, gcn_model, train_loader, device, num_train, optimizer)\n",
    "    supervised_loss_training.append(loss1)\n",
    "    if epoch % 8 == 0:\n",
    "        loss2 = model_testing(reg, gcn_model, test_loader, device, num_train)\n",
    "        supervised_loss_testing.append(loss2)\n",
    "        print('Epoch {:03d}, Train Loss: {:.4f}, Val Loss: {:.4f}'.format(\n",
    "            epoch, loss1, loss2))\n",
    "    scheduler.step()\n",
    "# endregion"
   ]
  },
  {
   "cell_type": "code",
   "execution_count": null,
   "metadata": {},
   "outputs": [],
   "source": [
    "# region Supervised learning\n",
    "train_data = process_data(X_train, pmax, var, p_wmmse_train)\n",
    "test_data = process_data(X_test, pmax, var, p_wmmse_test)\n",
    "device = torch.device('cuda' if torch.cuda.is_available() else 'cpu')\n",
    "print(torch.cuda.is_available())\n",
    "gcn_model = GCNet().to(device)\n",
    "\n",
    "optimizer = torch.optim.Adam(gcn_model.parameters(), lr=0.001)\n",
    "scheduler = torch.optim.lr_scheduler.StepLR(optimizer, step_size=20, gamma=0.9)\n",
    "train_loader = DataLoader(train_data, batch_size=64, shuffle=True, num_workers=1)\n",
    "test_loader = DataLoader(test_data, batch_size=2000, shuffle=False, num_workers=1)\n",
    "\n",
    "for epoch in range(1, 200):\n",
    "    loss1 = model_supervised_training(reg, gcn_model, train_loader, device, num_train, optimizer)\n",
    "    unsupervised_loss_training.append(loss1)\n",
    "    if epoch % 8 == 0:\n",
    "        loss2 = model_supervised_testing(reg, gcn_model, test_loader, device, num_train)\n",
    "        ubsupervised_loss_testing.append(loss2)\n",
    "        print('Epoch {:03d}, Train Loss: {:.4f}, Val Loss: {:.4f}'.format(\n",
    "            epoch, loss1, loss2))\n",
    "    scheduler.step()\n",
    "# endregion\n",
    "#\n",
    "# torch.save(gcn_model.state_dict(), 'model.pth')"
   ]
  },
  {
   "cell_type": "code",
   "execution_count": null,
   "metadata": {},
   "outputs": [],
   "source": []
  }
 ],
 "metadata": {
  "kernelspec": {
   "display_name": "Python 3 (ipykernel)",
   "language": "python",
   "name": "python3"
  },
  "language_info": {
   "codemirror_mode": {
    "name": "ipython",
    "version": 3
   },
   "file_extension": ".py",
   "mimetype": "text/x-python",
   "name": "python",
   "nbconvert_exporter": "python",
   "pygments_lexer": "ipython3",
   "version": "3.9.16"
  }
 },
 "nbformat": 4,
 "nbformat_minor": 1
}
