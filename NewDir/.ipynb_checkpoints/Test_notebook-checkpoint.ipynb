{
 "cells": [
  {
   "cell_type": "code",
   "execution_count": 1,
   "id": "f3ff5ac8",
   "metadata": {},
   "outputs": [],
   "source": [
    "def draw_network(position, radius):\n",
    "    fig, ax = plt.subplots()\n",
    "    circle = plt.Circle((0, 0), radius, fill=False, color='blue')\n",
    "    ax.set_aspect('equal', adjustable='box')\n",
    "    ax.scatter(position[0][0][0], position[0][0][1], color='green')\n",
    "    ax.scatter(\n",
    "        [node[0] for node in position[0][1:]],\n",
    "        [node[1] for node in position[0][1:]],\n",
    "        color='red'\n",
    "    )\n",
    "    ax.add_patch(circle)\n",
    "    plt.show()"
   ]
  },
  {
   "cell_type": "code",
   "execution_count": 2,
   "id": "219ae615",
   "metadata": {},
   "outputs": [],
   "source": [
    "def generate_channels_cell_wireless(num_bs, num_users, num_samples, var_noise=1.0, radius=1):\n",
    "    # Network: Consisting multiple pairs of Tx and Rx devices, each pair is considered an user.\n",
    "    # Input:\n",
    "    #     num_users: Number of users in the network\n",
    "    #     num_samples: Number of samples using for the model\n",
    "    #     var_noise: variance of the AWGN\n",
    "    #     p_min: minimum power for each user\n",
    "    # Output:\n",
    "    #     Hs: channel matrices of all users in the network - size num_samples x num_users x num_users\n",
    "    #        H(i,j) is the channel from Tx of the i-th pair to Rx or the j-th pair\n",
    "    #     pos: position of all users in the network (?)\n",
    "    #     pos[:num_bs] is the position of the BS(s)\n",
    "    #     pos[num_bs:num_bs+num_users] is the position of the user(s)\n",
    "    #     adj: adjacency matrix of all users in the network - only \"1\" if interference occurs\n",
    "\n",
    "    print(\"Generating Data for training and testing\")\n",
    "\n",
    "    if num_bs != 1:\n",
    "        raise Exception(\"Can not generate data for training and testing with more than 1 base station\")\n",
    "    # generate position\n",
    "    dist_mat = []\n",
    "    position = []\n",
    "\n",
    "    # Calculate channel\n",
    "    CH = 1 / np.sqrt(2) * (np.random.randn(num_samples, 1, num_users)\n",
    "                           + 1j * np.random.randn(num_samples, 1, num_users))\n",
    "\n",
    "    if radius == 0:\n",
    "        Hs = abs(CH)\n",
    "    else:\n",
    "        for each_sample in range(num_samples):\n",
    "            pos = []\n",
    "            pos_BS = []\n",
    "\n",
    "            for i in range(num_bs):\n",
    "                r = 0.2 * radius * (np.random.rand())\n",
    "                theta = np.random.rand() * 2 * np.pi\n",
    "                pos_BS.append([r * np.sin(theta), r * np.cos(theta)])\n",
    "                pos.append([r * np.sin(theta), r * np.cos(theta)])\n",
    "            pos_user = []\n",
    "\n",
    "            for i in range(num_users):\n",
    "                r = 0.5 * radius + 0.5 * radius * np.random.rand()\n",
    "                theta = np.random.rand() * 2 * np.pi\n",
    "                pos_user.append([r * np.sin(theta), r * np.cos(theta)])\n",
    "                pos.append([r * np.sin(theta), r * np.cos(theta)])\n",
    "\n",
    "            pos = np.array(pos)\n",
    "            pos_BS = np.array(pos_BS)\n",
    "            dist_matrix = distance_matrix(pos_BS, pos_user)\n",
    "            # dist_matrixp = distance_matrix(pos[1:], pos[1:])\n",
    "            dist_mat.append(dist_matrix)\n",
    "            position.append(pos)\n",
    "\n",
    "        dist_mat = np.array(dist_mat)\n",
    "        position = np.array(position)\n",
    "\n",
    "        # Calculate Free space pathloss\n",
    "        f = 6e9\n",
    "        c = 3e8\n",
    "        FSPL = 1 / ((4 * np.pi * f * dist_mat / c) ** 2)\n",
    "        Hs = abs(CH * FSPL)\n",
    "\n",
    "    adj = adj_matrix(num_users)\n",
    "\n",
    "    return Hs, position, adj\n"
   ]
  },
  {
   "cell_type": "code",
   "execution_count": 94,
   "id": "4a29ef4d",
   "metadata": {},
   "outputs": [],
   "source": [
    "def wmmse_cell_network(channel_matrix, power_matrix, weight_matrix, P_max, var_noise):\n",
    "    print(\"Solving the cell network problem with WMMSE\")\n",
    "    num_user = channel_matrix.shape[2]\n",
    "    num_BS = channel_matrix.shape[1]\n",
    "    num_sample = channel_matrix.shape[0]\n",
    "\n",
    "    # U = np.zeros(num_BS, num_user)\n",
    "    # V = np.ones(num_BS, num_user)\n",
    "    # W = np.zeros(num_BS, num_user)\n",
    "\n",
    "    power = np.sqrt(power_matrix)\n",
    "\n",
    "    all_rx_signal = channel_matrix.transpose(0, 2, 1) @ power\n",
    "    desired_power = np.diagonal(all_rx_signal, axis1=1, axis2=2)\n",
    "    interference = np.square(all_rx_signal)\n",
    "    interference = np.sum(interference, 2)  # interfernce at each UE => sum of columns\n",
    "    # Init the U and W\n",
    "    U = np.divide(desired_power, interference + var_noise)\n",
    "    W = 1 / (1 - (U * desired_power))\n",
    "    # The main loop\n",
    "    count = 1\n",
    "    while 1:\n",
    "        # Calculate the V\n",
    "        all_rx_signal = channel_matrix.transpose(0, 2, 1) @ U\n",
    "        desired_power = np.diagonal(all_rx_signal, axis1=1, axis2=2)\n",
    "        desired_power = weight_matrix * W * desired_power\n",
    "        interference = np.square(all_rx_signal)\n",
    "        interference = weight_matrix * interference * W\n",
    "        interference = np.sum(interference, 2)\n",
    "\n",
    "        V = desired_power / interference\n",
    "        # print(\"================================================\")\n",
    "        # print(f'Loop {count}: {V}')\n",
    "        # setting V for constraints p_max\n",
    "        V = np.minimum(V, np.sqrt(P_max)) + np.maximum(V, np.zeros(V.shape)) - V\n",
    "        # print(f'After justified: {V}')\n",
    "\n",
    "        # Update U and W\n",
    "        all_rx_signal = channel_matrix.transpose(0, 2, 1) @ V\n",
    "        desired_power = np.diagonal(all_rx_signal, axis1=1, axis2=2)\n",
    "        interference = np.square(all_rx_signal)\n",
    "        interference = np.sum(interference, 2)\n",
    "        U = np.divide(desired_power, interference + var_noise)\n",
    "        W = 1 / (1 - (U * desired_power))\n",
    "\n",
    "        count = count + 1\n",
    "\n",
    "        all_power.append(V)\n",
    "        # Check break condition\n",
    "        if count == 100:\n",
    "            break\n",
    "\n",
    "    # print(f'The total loop: {count}')\n",
    "    return np.square(V)\n",
    "\n"
   ]
  },
  {
   "cell_type": "code",
   "execution_count": 95,
   "id": "a4cc063c",
   "metadata": {},
   "outputs": [],
   "source": [
    "import numpy as np\n",
    "import matplotlib.pyplot as plt"
   ]
  },
  {
   "cell_type": "code",
   "execution_count": 96,
   "id": "6ac6deec",
   "metadata": {},
   "outputs": [
    {
     "name": "stdout",
     "output_type": "stream",
     "text": [
      "Solving the cell network problem with WMMSE\n",
      "[[[2.61710046e-281 4.00000000e+000 7.25725337e-202]]]\n"
     ]
    }
   ],
   "source": [
    "import numpy as np\n",
    "\n",
    "K = 1  # number of BS(s)\n",
    "N = 3  # number of users\n",
    "R = 0  # radius\n",
    "p_mtx = np.ones((1, K, N)) * 1\n",
    "p_max = np.ones((1, K, N)) * 4\n",
    "all_power = []\n",
    "X_train = np.array([[[0.49632743, 0.45383659, 0.44659692]]])\n",
    "\n",
    "weights_matrix = np.array([[[1, 3, 2]]])\n",
    "power = np.array([[[1, 2, 4]]])\n",
    "var_noise = np.array([[[0.1, 0.1, 0.1]]])\n",
    "\n",
    "p_wmmse = wmmse_cell_network(X_train, power, weights_matrix, p_max, var_noise)\n",
    "print(p_wmmse)"
   ]
  },
  {
   "cell_type": "code",
   "execution_count": 97,
   "id": "8cc8e549",
   "metadata": {
    "scrolled": true
   },
   "outputs": [
    {
     "data": {
      "image/png": "[encoded data removed]",
      "text/plain": [
       "<Figure size 640x480 with 3 Axes>"
      ]
     },
     "metadata": {},
     "output_type": "display_data"
    }
   ],
   "source": [
    "fig, axs = plt.subplots(1, 3)\n",
    "\n",
    "all_power = np.array(all_power)\n",
    "\n",
    "axs[0].plot(all_power[:, 0, 0, 0])\n",
    "axs[0].set_title('Plot 1')\n",
    "\n",
    "axs[1].plot(all_power[:, 0, 0, 1])\n",
    "axs[1].set_title('Plot 2')\n",
    "\n",
    "axs[2].plot(all_power[:, 0, 0, 2])\n",
    "axs[2].set_title('Plot 3')\n",
    "# Display the plot\n",
    "plt.show()"
   ]
  },
  {
   "cell_type": "code",
   "execution_count": 27,
   "id": "cbf58dca",
   "metadata": {},
   "outputs": [
    {
     "data": {
      "text/plain": [
       "array([[[4., 4., 4.]]])"
      ]
     },
     "execution_count": 27,
     "metadata": {},
     "output_type": "execute_result"
    }
   ],
   "source": [
    "p_max"
   ]
  },
  {
   "cell_type": "code",
   "execution_count": 137,
   "id": "699079dd",
   "metadata": {},
   "outputs": [],
   "source": [
    "channel_matrix = np.array([[[0.49632743, 0.45383659, 0.44659692]]])\n",
    "power_matrix = np.array([[[1, 2, 4]]])\n",
    "weight_matrix = np.array([[[1, 1, 1]]])\n",
    "P_max = np.ones((1, K, N)) * 4\n",
    "var_noise = var_noise\n"
   ]
  },
  {
   "cell_type": "code",
   "execution_count": 138,
   "id": "2164138f",
   "metadata": {},
   "outputs": [
    {
     "name": "stdout",
     "output_type": "stream",
     "text": [
      "Solving the cell network problem with WMMSE\n"
     ]
    }
   ],
   "source": [
    "print(\"Solving the cell network problem with WMMSE\")\n",
    "num_user = channel_matrix.shape[2]\n",
    "num_BS = channel_matrix.shape[1]\n",
    "num_sample = channel_matrix.shape[0]"
   ]
  },
  {
   "cell_type": "markdown",
   "id": "8ebd3c03",
   "metadata": {},
   "source": [
    "# The WMMSE Approach"
   ]
  },
  {
   "cell_type": "code",
   "execution_count": 139,
   "id": "11f17683",
   "metadata": {},
   "outputs": [],
   "source": [
    "power = np.sqrt(power_matrix)\n",
    "\n",
    "all_rx_signal = channel_matrix.transpose(0, 2, 1) @ power\n",
    "desired_power = np.diagonal(all_rx_signal, axis1=1, axis2=2)\n",
    "interference = np.square(all_rx_signal)\n",
    "interference = np.sum(interference, 2)  # interfernce at each UE => sum of columns\n",
    "U = np.divide(desired_power, interference + var_noise)\n",
    "W = 1 / (1 - (U * desired_power))"
   ]
  },
  {
   "cell_type": "code",
   "execution_count": 140,
   "id": "49064f39",
   "metadata": {},
   "outputs": [],
   "source": [
    "# Calculate the V\n",
    "all_rx_signal = channel_matrix.transpose(0, 2, 1) @ U\n",
    "desired_power = np.diagonal(all_rx_signal, axis1=1, axis2=2)\n",
    "desired_power = weight_matrix * W * desired_power\n",
    "interference = np.square(all_rx_signal)\n",
    "interference = weight_matrix * interference * W\n",
    "interference = np.sum(interference, 2)\n",
    "\n",
    "V = desired_power / interference\n",
    "# print(\"================================================\")\n",
    "# print(f'Loop {count}: {V}')\n",
    "# setting V for constraints p_max\n",
    "V = np.minimum(V, np.sqrt(P_max)) + np.maximum(V, np.zeros(V.shape)) - V\n",
    "# print(f'After justified: {V}')"
   ]
  },
  {
   "cell_type": "code",
   "execution_count": 141,
   "id": "edcf74c3",
   "metadata": {},
   "outputs": [],
   "source": [
    "# Update U and W\n",
    "all_rx_signal = channel_matrix.transpose(0, 2, 1) @ V\n",
    "desired_power = np.diagonal(all_rx_signal, axis1=1, axis2=2)\n",
    "interference = np.square(all_rx_signal)\n",
    "interference = np.sum(interference, 2)\n",
    "U = np.divide(desired_power, interference + var_noise)\n",
    "W = 1 / (1 - (U * desired_power))"
   ]
  },
  {
   "cell_type": "markdown",
   "id": "fade06c4",
   "metadata": {},
   "source": [
    "# The direct Approach"
   ]
  },
  {
   "cell_type": "code",
   "execution_count": 142,
   "id": "6af313cb",
   "metadata": {},
   "outputs": [],
   "source": [
    "h1 = channel_matrix[0,0,0] \n",
    "h2 = channel_matrix[0,0,1] \n",
    "h3 = channel_matrix[0,0,2] \n",
    "p1 = power[0,0,0]\n",
    "p2 = power[0,0,1]\n",
    "p3 = power[0,0,2]"
   ]
  },
  {
   "cell_type": "code",
   "execution_count": 143,
   "id": "de35bcd4",
   "metadata": {},
   "outputs": [
    {
     "name": "stdout",
     "output_type": "stream",
     "text": [
      "1.7243864243928344 1.4417735529597966 1.3961416626744048\n"
     ]
    }
   ],
   "source": [
    "i1 = (h1**2) * ((p2**2) + (p3**2) + (p1**2))\n",
    "i2 = (h2**2) * ((p2**2) + (p3**2) + (p1**2))\n",
    "i3 = (h3**2) * ((p2**2) + (p3**2) + (p1**2))\n",
    "print(i1, i2, i3)"
   ]
  },
  {
   "cell_type": "code",
   "execution_count": 144,
   "id": "ebfbef78",
   "metadata": {},
   "outputs": [
    {
     "name": "stdout",
     "output_type": "stream",
     "text": [
      "0.27205170097951176 0.41628802066751625 0.5969981735575662\n"
     ]
    }
   ],
   "source": [
    "u1 = h1 * p1 / (i1 + var_noise[0,0,0])\n",
    "u2 = h2 * p2 / (i2 + var_noise[0,0,1])\n",
    "u3 = h3 * p3 / (i3 + var_noise[0,0,2])\n",
    "print(u1, u2, u3)"
   ]
  },
  {
   "cell_type": "code",
   "execution_count": 145,
   "id": "5edbf98f",
   "metadata": {},
   "outputs": [
    {
     "name": "stdout",
     "output_type": "stream",
     "text": [
      "1.1561050785523042 1.364596702293313 2.1424061255680455\n"
     ]
    }
   ],
   "source": [
    "w1 = 1/(1 - u1 * h1 * p1)\n",
    "w2 = 1/(1 - u2 * h2 * p2)\n",
    "w3 = 1/(1 - u3 * h3 * p3)\n",
    "print(w1, w2, w3)"
   ]
  },
  {
   "cell_type": "code",
   "execution_count": 146,
   "id": "c68d9da0",
   "metadata": {},
   "outputs": [],
   "source": [
    "a1 = weight_matrix[0,0,0]\n",
    "a2 = weight_matrix[0,0,1]\n",
    "a3 = weight_matrix[0,0,2]"
   ]
  },
  {
   "cell_type": "code",
   "execution_count": 158,
   "id": "1fa838a1",
   "metadata": {},
   "outputs": [],
   "source": [
    "v_m1 = np.sqrt(p_max[0,0,0])\n",
    "v_m2 = np.sqrt(p_max[0,0,1])\n",
    "v_m3 = np.sqrt(p_max[0,0,2])"
   ]
  },
  {
   "cell_type": "code",
   "execution_count": 159,
   "id": "8f8be3f1",
   "metadata": {},
   "outputs": [
    {
     "data": {
      "text/plain": [
       "2.0"
      ]
     },
     "execution_count": 159,
     "metadata": {},
     "output_type": "execute_result"
    }
   ],
   "source": [
    "v_m3"
   ]
  },
  {
   "cell_type": "code",
   "execution_count": 162,
   "id": "e49d7c9e",
   "metadata": {},
   "outputs": [
    {
     "name": "stdout",
     "output_type": "stream",
     "text": [
      "0.5837213211775241 1.152985387660339 2.0\n"
     ]
    }
   ],
   "source": [
    "v1 = (a1 * h1 * u1 * w1)/(h1**2 * (a1 * w1 * (u1**2) + a2 * w2 * (u2**2) + a3 * w3 * (u3**2)))\n",
    "v2 = (a2 * h2 * u2 * w2)/(h2**2 * (a1 * w1 * (u1**2) + a2 * w2 * (u2**2) + a3 * w3 * (u3**2)))\n",
    "v3 = (a3 * h3 * u3 * w3)/(h3**2 * (a1 * w1 * (u1**2) + a2 * w2 * (u2**2) + a3 * w3 * (u3**2)))\n",
    "\n",
    "v1 = v_m1 if v1 > v_m1 else v1\n",
    "v2 = v_m2 if v2 > v_m2 else v2\n",
    "v3= v_m3 if v3 > v_m3 else v3\n",
    "\n",
    "print(v1, v2, v3)"
   ]
  },
  {
   "cell_type": "code",
   "execution_count": 148,
   "id": "ab8d0d79",
   "metadata": {},
   "outputs": [
    {
     "name": "stdout",
     "output_type": "stream",
     "text": [
      "U matrix: [[[0.19356023 0.41271719 0.72564533]]]\n",
      "W matrix: [[[1.0594092  1.2754472  2.84205513]]]\n",
      "V matrix: [[[0.58372132 1.15298539 2.        ]]]\n"
     ]
    }
   ],
   "source": [
    "# print(f'desire: {desired_power}')\n",
    "# print(f'interference: {interference}')\n",
    "\n",
    "print(f'U matrix: {U}')\n",
    "\n",
    "print(f'W matrix: {W}')\n",
    "\n",
    "print(f'V matrix: {V}')"
   ]
  },
  {
   "cell_type": "code",
   "execution_count": 163,
   "id": "88a1e61e",
   "metadata": {},
   "outputs": [],
   "source": [
    "p1 = power[0,0,0]\n",
    "p2 = power[0,0,1]\n",
    "p3 = power[0,0,2]"
   ]
  },
  {
   "cell_type": "code",
   "execution_count": 164,
   "id": "b01b036b",
   "metadata": {},
   "outputs": [],
   "source": [
    "p = np.array([[[p1, p2, p3]]])\n",
    "v = np.array([[[v1, v2, v3]]])"
   ]
  },
  {
   "cell_type": "code",
   "execution_count": 165,
   "id": "d193cb0b",
   "metadata": {},
   "outputs": [
    {
     "data": {
      "text/plain": [
       "0.49145508208374883"
      ]
     },
     "execution_count": 165,
     "metadata": {},
     "output_type": "execute_result"
    }
   ],
   "source": [
    "np.linalg.norm(v - p)"
   ]
  },
  {
   "cell_type": "code",
   "execution_count": 166,
   "id": "0a57d8fe",
   "metadata": {},
   "outputs": [
    {
     "name": "stdout",
     "output_type": "stream",
     "text": [
      "[[[1.         1.41421356 2.        ]]] [[[0.58372132 1.15298539 2.        ]]]\n"
     ]
    }
   ],
   "source": [
    "print(p, v)"
   ]
  },
  {
   "cell_type": "code",
   "execution_count": null,
   "id": "a6702828",
   "metadata": {},
   "outputs": [],
   "source": [
    "def wmmse_direct():\n",
    "    h1 = channel_matrix[0,0,0] \n",
    "    h2 = channel_matrix[0,0,1] \n",
    "    h3 = channel_matrix[0,0,2] \n",
    "    p1 = power[0,0,0]\n",
    "    p2 = power[0,0,1]\n",
    "    p3 = power[0,0,2]\n",
    "    \n",
    "    i1 = (h1**2) * ((p2**2) + (p3**2) + (p1**2))\n",
    "    i2 = (h2**2) * ((p2**2) + (p3**2) + (p1**2))\n",
    "    i3 = (h3**2) * ((p2**2) + (p3**2) + (p1**2))\n",
    "    \n",
    "    u1 = h1 * p1 / (i1 + var_noise[0,0,0])\n",
    "    u2 = h2 * p2 / (i2 + var_noise[0,0,1])\n",
    "    u3 = h3 * p3 / (i3 + var_noise[0,0,2])\n",
    "    \n",
    "    w1 = 1/(1 - u1 * h1 * p1)\n",
    "    w2 = 1/(1 - u2 * h2 * p2)\n",
    "    w3 = 1/(1 - u3 * h3 * p3)\n",
    "    \n",
    "    a1 = weight_matrix[0,0,0]\n",
    "    a2 = weight_matrix[0,0,1]\n",
    "    a3 = weight_matrix[0,0,2]\n",
    "    \n",
    "    count = 1\n",
    "    while 1:\n",
    "        v_m1 = np.sqrt(p_max[0,0,0])\n",
    "        v_m2 = np.sqrt(p_max[0,0,1])\n",
    "        v_m3 = np.sqrt(p_max[0,0,2])\n",
    "\n",
    "        v1 = (a1 * h1 * u1 * w1)/(h1**2 * (a1 * w1 * (u1**2) + a2 * w2 * (u2**2) + a3 * w3 * (u3**2)))\n",
    "        v2 = (a2 * h2 * u2 * w2)/(h2**2 * (a1 * w1 * (u1**2) + a2 * w2 * (u2**2) + a3 * w3 * (u3**2)))\n",
    "        v3 = (a3 * h3 * u3 * w3)/(h3**2 * (a1 * w1 * (u1**2) + a2 * w2 * (u2**2) + a3 * w3 * (u3**2)))\n",
    "\n",
    "        v1 = v_m1 if v1 > v_m1 else v1\n",
    "        v2 = v_m2 if v2 > v_m2 else v2\n",
    "        v3 = v_m3 if v3 > v_m3 else v3\n",
    "        \n",
    "        V = np.array([v1, v2, v3])\n",
    "        count = count + 1\n",
    "\n",
    "        all_power.append(V)\n",
    "        # Check break condition\n",
    "        if count == 100:\n",
    "            break\n",
    "        \n",
    "        i1 = (h1**2) * ((v2**2) + (v3**2) + (v1**2))\n",
    "        i2 = (h2**2) * ((v2**2) + (v3**2) + (v1**2))\n",
    "        i3 = (h3**2) * ((v2**2) + (v3**2) + (v1**2))\n",
    "\n",
    "        u1 = h1 * v1 / (i1 + var_noise[0,0,0])\n",
    "        u2 = h2 * v2 / (i2 + var_noise[0,0,1])\n",
    "        u3 = h3 * v3 / (i3 + var_noise[0,0,2])\n",
    "\n",
    "        w1 = 1/(1 - u1 * h1 * v1)\n",
    "        w2 = 1/(1 - u2 * h2 * v2)\n",
    "        w3 = 1/(1 - u3 * h3 * v3)\n",
    "\n",
    "    # print(f'The total loop: {count}')\n",
    "    return np.square(V)\n",
    "\n",
    "        \n"
   ]
  }
 ],
 "metadata": {
  "kernelspec": {
   "display_name": "Python 3 (ipykernel)",
   "language": "python",
   "name": "python3"
  },
  "language_info": {
   "codemirror_mode": {
    "name": "ipython",
    "version": 3
   },
   "file_extension": ".py",
   "mimetype": "text/x-python",
   "name": "python",
   "nbconvert_exporter": "python",
   "pygments_lexer": "ipython3",
   "version": "3.9.16"
  }
 },
 "nbformat": 4,
 "nbformat_minor": 5
}
